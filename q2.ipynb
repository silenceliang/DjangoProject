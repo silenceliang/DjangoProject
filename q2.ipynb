{
 "cells": [
  {
   "cell_type": "markdown",
   "metadata": {},
   "source": [
    "## Question 2."
   ]
  },
  {
   "cell_type": "code",
   "execution_count": 1,
   "metadata": {},
   "outputs": [],
   "source": [
    "def add_val_to_list (val, list=[]) :\n",
    "    list.append(val)\n",
    "    return list"
   ]
  },
  {
   "cell_type": "code",
   "execution_count": 2,
   "metadata": {},
   "outputs": [],
   "source": [
    "list1 = add_val_to_list( 321 )\n",
    "list2 = add_val_to_list( 123 ,[])\n",
    "list3 = add_val_to_list( 'a' )"
   ]
  },
  {
   "cell_type": "code",
   "execution_count": 3,
   "metadata": {
    "scrolled": false
   },
   "outputs": [
    {
     "name": "stdout",
     "output_type": "stream",
     "text": [
      "[321, 'a']\n",
      "----------\n",
      "[123]\n",
      "----------\n",
      "[321, 'a']\n"
     ]
    }
   ],
   "source": [
    "print(list1)\n",
    "print('-'*10)\n",
    "print(list2)\n",
    "print('-'*10)\n",
    "print(list3)"
   ]
  },
  {
   "cell_type": "markdown",
   "metadata": {},
   "source": [
    "## Reason to Q2.\n",
    "### step 1: \n",
    "`list1 = add_val_to_list( 321 )` is going to generate a list containing `321`.\n",
    "Specifically, `list = [321]`. Here the list refers an avaliable memory address, we call **call-by-reference**. \n",
    "### step 2:\n",
    "`list1 = add_val_to_list( 123,[] )` returns a list that has only one element `123` where the list is a parameter.\n",
    "Specifically, `*list = [123]` where the passing way is called **call-by-value**.\n",
    "### step 3:\n",
    "`list3 = add_val_to_list( 'a' )` will append a new element into the list which contains `321`.\n",
    "Therefore, we get `list = [321, 'a']`\n",
    "### step 4:\n",
    "we print the results sequentially, first the `list1` returns `list = [321, 'a']`  and sencondly the `list2` returns `*list = [123]`.Finally, the `list3` returns `list = [321, 'a']`.\n",
    "\n",
    "## Note\n",
    "The common list in `list1` and `list3` is passed by reference.They share the same memory address.\n",
    "We can find an evidence from their addresses separately:"
   ]
  },
  {
   "cell_type": "code",
   "execution_count": 4,
   "metadata": {},
   "outputs": [
    {
     "name": "stdout",
     "output_type": "stream",
     "text": [
      "list1_addrs= 0x7f9f084d38c8\n",
      "list2_addrs= 0x7f9f084d3808\n",
      "list3_addrs= 0x7f9f084d38c8\n"
     ]
    }
   ],
   "source": [
    "print('list1_addrs=',hex(id(list1)))\n",
    "print('list2_addrs=',hex(id(list2)))\n",
    "print('list3_addrs=',hex(id(list3)))"
   ]
  },
  {
   "cell_type": "markdown",
   "metadata": {},
   "source": [
    "In the result, we konw that `list1` and `list3` have the same memory address."
   ]
  }
 ],
 "metadata": {
  "kernelspec": {
   "display_name": "Python 3",
   "language": "python",
   "name": "python3"
  },
  "language_info": {
   "codemirror_mode": {
    "name": "ipython",
    "version": 3
   },
   "file_extension": ".py",
   "mimetype": "text/x-python",
   "name": "python",
   "nbconvert_exporter": "python",
   "pygments_lexer": "ipython3",
   "version": "3.5.2"
  }
 },
 "nbformat": 4,
 "nbformat_minor": 4
}
